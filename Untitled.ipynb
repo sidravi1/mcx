{
 "cells": [
  {
   "cell_type": "code",
   "execution_count": 1,
   "id": "positive-surge",
   "metadata": {},
   "outputs": [],
   "source": [
    "%load_ext autoreload\n",
    "%autoreload 2"
   ]
  },
  {
   "cell_type": "code",
   "execution_count": 2,
   "id": "excited-folks",
   "metadata": {},
   "outputs": [
    {
     "name": "stderr",
     "output_type": "stream",
     "text": [
      "WARNING:absl:No GPU/TPU found, falling back to CPU. (Set TF_CPP_MIN_LOG_LEVEL=0 and rerun for more info.)\n"
     ]
    }
   ],
   "source": [
    "import jax\n",
    "import jax.numpy as jnp\n",
    "import numpy as np\n",
    "import mcx\n",
    "import mcx.distributions as dist\n",
    "\n",
    "from mcx.inference import HMC\n",
    "rng_key = jax.random.PRNGKey(2)\n",
    "\n",
    "x_data_mvn = np.random.multivariate_normal([0, 1], [[1., 0.4],[0.4, 1.]], size=1000)\n",
    "y_data_mvn = x_data_mvn @ np.array([3, 1]) + np.random.normal(size=x_data_mvn.shape[0])\n",
    "y_data_mvn = y_data_mvn.reshape(-1, 1)\n",
    "observations_mvn = {'x': x_data_mvn, 'predictions': y_data_mvn}\n",
    "\n",
    "x_data = np.random.normal(0, 5, size=(1000,1))\n",
    "y_data = 3 * x_data + np.random.normal(size=x_data.shape)\n",
    "observations = {'x': x_data, 'predictions': y_data}"
   ]
  },
  {
   "cell_type": "code",
   "execution_count": 3,
   "id": "hindu-meeting",
   "metadata": {},
   "outputs": [
    {
     "data": {
      "text/plain": [
       "((1000, 2), (1000, 1))"
      ]
     },
     "execution_count": 3,
     "metadata": {},
     "output_type": "execute_result"
    }
   ],
   "source": [
    "x_data_mvn.shape, y_data_mvn.shape"
   ]
  },
  {
   "cell_type": "code",
   "execution_count": 4,
   "id": "amazing-broadcast",
   "metadata": {},
   "outputs": [
    {
     "data": {
      "text/plain": [
       "((1000, 1), (1000, 1))"
      ]
     },
     "execution_count": 4,
     "metadata": {},
     "output_type": "execute_result"
    }
   ],
   "source": [
    "x_data.shape, y_data.shape"
   ]
  },
  {
   "cell_type": "code",
   "execution_count": null,
   "id": "interracial-oxford",
   "metadata": {},
   "outputs": [],
   "source": [
    "@mcx.model\n",
    "def linear_regression(x, lmbda=1.):\n",
    "    sigma <~ dist.Exponential(lmbda)\n",
    "    coeffs_init = jnp.ones(x.shape[-1])\n",
    "    coeffs <~ dist.Normal(coeffs_init, 1)\n",
    "    y = jnp.dot(x, coeffs)\n",
    "    preds <~ dist.Normal(y, sigma)\n",
    "    return preds\n",
    "\n",
    "kernel = mcx.HMC(100)\n",
    "sampler = mcx.sampler(\n",
    "    rng_key,\n",
    "    linear_regression,\n",
    "    (x_data,),\n",
    "    {'preds': y_data},\n",
    "    HMC(10),\n",
    ")\n",
    "posterior = sampler.run()"
   ]
  },
  {
   "cell_type": "code",
   "execution_count": null,
   "id": "multiple-clothing",
   "metadata": {},
   "outputs": [],
   "source": [
    "@mcx.model\n",
    "def linear_regression_mvn(x, lmbda=1.):\n",
    "    sigma <~ dist.Exponential(lmbda)\n",
    "    sigma2 <~ dist.Exponential(lmbda)\n",
    "    rho <~ dist.Uniform(-1, 1)\n",
    "    cov = jnp.array([[sigma**2, rho*sigma*sigma2],[rho*sigma*sigma2, sigma2**2]])\n",
    "    coeffs_init = jnp.ones(x.shape[-1])\n",
    "    coeffs <~ dist.MvNormal(coeffs_init, cov)\n",
    "    y = jnp.dot(x, coeffs.T)\n",
    "    preds <~ dist.Normal(y, sigma)\n",
    "    return preds\n",
    "\n",
    "sampler = mcx.sampler(\n",
    "    rng_key,\n",
    "    linear_regression_mvn,\n",
    "    (x_data_mvn,),\n",
    "    {'preds': y_data_mvn},\n",
    "    HMC(10),\n",
    ")\n",
    "posterior = sampler.run()"
   ]
  },
  {
   "cell_type": "code",
   "execution_count": 8,
   "id": "foreign-pavilion",
   "metadata": {},
   "outputs": [
    {
     "name": "stderr",
     "output_type": "stream",
     "text": [
      "Collecting 1,000 samples across 4 chains: 100%|██████████| 1000/1000 [00:58<00:00, 17.05samples/s, worst rhat=1.01]\n"
     ]
    }
   ],
   "source": [
    "posterior = sampler.run()"
   ]
  },
  {
   "cell_type": "code",
   "execution_count": 32,
   "id": "domestic-model",
   "metadata": {},
   "outputs": [
    {
     "name": "stdout",
     "output_type": "stream",
     "text": [
      "sampler: build the loglikelihood\n",
      "sampler: find the initial states\n",
      "2 (2, 2)\n"
     ]
    },
    {
     "ename": "ValueError",
     "evalue": "All input arrays must have the same shape.",
     "output_type": "error",
     "traceback": [
      "\u001b[0;31m---------------------------------------------------------------------------\u001b[0m",
      "\u001b[0;31mValueError\u001b[0m                                Traceback (most recent call last)",
      "\u001b[0;32m<ipython-input-32-8935f7222487>\u001b[0m in \u001b[0;36m<module>\u001b[0;34m\u001b[0m\n\u001b[1;32m     16\u001b[0m     \u001b[0mlinear_regression_mvn\u001b[0m\u001b[0;34m,\u001b[0m\u001b[0;34m\u001b[0m\u001b[0m\n\u001b[1;32m     17\u001b[0m     \u001b[0mkernel\u001b[0m\u001b[0;34m,\u001b[0m\u001b[0;34m\u001b[0m\u001b[0m\n\u001b[0;32m---> 18\u001b[0;31m     \u001b[0;34m**\u001b[0m\u001b[0mobservations_mvn\u001b[0m\u001b[0;34m\u001b[0m\u001b[0m\n\u001b[0m\u001b[1;32m     19\u001b[0m )\n",
      "\u001b[0;32m~/Documents/mcx/mcx/sample.py\u001b[0m in \u001b[0;36m__init__\u001b[0;34m(self, rng_key, model, evaluator, num_chains, **observations)\u001b[0m\n\u001b[1;32m    122\u001b[0m         \u001b[0mprint\u001b[0m\u001b[0;34m(\u001b[0m\u001b[0;34m\"sampler: find the initial states\"\u001b[0m\u001b[0;34m)\u001b[0m\u001b[0;34m\u001b[0m\u001b[0m\n\u001b[1;32m    123\u001b[0m         initial_positions, unravel_fn = get_initial_position(\n\u001b[0;32m--> 124\u001b[0;31m             \u001b[0mrng_key\u001b[0m\u001b[0;34m,\u001b[0m \u001b[0mmodel\u001b[0m\u001b[0;34m,\u001b[0m \u001b[0mnum_chains\u001b[0m\u001b[0;34m,\u001b[0m \u001b[0;34m**\u001b[0m\u001b[0mobservations\u001b[0m\u001b[0;34m\u001b[0m\u001b[0m\n\u001b[0m\u001b[1;32m    125\u001b[0m         )\n\u001b[1;32m    126\u001b[0m         \u001b[0mloglikelihood\u001b[0m \u001b[0;34m=\u001b[0m \u001b[0mflatten_loglikelihood\u001b[0m\u001b[0;34m(\u001b[0m\u001b[0mloglikelihood\u001b[0m\u001b[0;34m,\u001b[0m \u001b[0munravel_fn\u001b[0m\u001b[0;34m)\u001b[0m\u001b[0;34m\u001b[0m\u001b[0m\n",
      "\u001b[0;32m~/Documents/mcx/mcx/sample.py\u001b[0m in \u001b[0;36mget_initial_position\u001b[0;34m(rng_key, model, num_chains, **kwargs)\u001b[0m\n\u001b[1;32m    580\u001b[0m     \u001b[0;31m# the unraveling function using `unravel_pytree`.\u001b[0m\u001b[0;34m\u001b[0m\u001b[0;34m\u001b[0m\u001b[0m\n\u001b[1;32m    581\u001b[0m     positions = jnp.stack(\n\u001b[0;32m--> 582\u001b[0;31m         \u001b[0;34m[\u001b[0m\u001b[0mjnp\u001b[0m\u001b[0;34m.\u001b[0m\u001b[0mravel\u001b[0m\u001b[0;34m(\u001b[0m\u001b[0msamples\u001b[0m\u001b[0;34m[\u001b[0m\u001b[0ms\u001b[0m\u001b[0;34m]\u001b[0m\u001b[0;34m)\u001b[0m \u001b[0;32mfor\u001b[0m \u001b[0ms\u001b[0m \u001b[0;32min\u001b[0m \u001b[0msorted\u001b[0m\u001b[0;34m(\u001b[0m\u001b[0minitial_positions\u001b[0m\u001b[0;34m.\u001b[0m\u001b[0mkeys\u001b[0m\u001b[0;34m(\u001b[0m\u001b[0;34m)\u001b[0m\u001b[0;34m)\u001b[0m\u001b[0;34m]\u001b[0m\u001b[0;34m,\u001b[0m \u001b[0maxis\u001b[0m\u001b[0;34m=\u001b[0m\u001b[0;36m1\u001b[0m\u001b[0;34m\u001b[0m\u001b[0m\n\u001b[0m\u001b[1;32m    583\u001b[0m     )\n\u001b[1;32m    584\u001b[0m \u001b[0;34m\u001b[0m\u001b[0m\n",
      "\u001b[0;32m~/anaconda3/envs/mcx/lib/python3.7/site-packages/jax/_src/numpy/lax_numpy.py\u001b[0m in \u001b[0;36mstack\u001b[0;34m(arrays, axis, out)\u001b[0m\n\u001b[1;32m   2630\u001b[0m   \u001b[0;32mfor\u001b[0m \u001b[0ma\u001b[0m \u001b[0;32min\u001b[0m \u001b[0marrays\u001b[0m\u001b[0;34m:\u001b[0m\u001b[0;34m\u001b[0m\u001b[0m\n\u001b[1;32m   2631\u001b[0m     \u001b[0;32mif\u001b[0m \u001b[0mshape\u001b[0m\u001b[0;34m(\u001b[0m\u001b[0ma\u001b[0m\u001b[0;34m)\u001b[0m \u001b[0;34m!=\u001b[0m \u001b[0mshape0\u001b[0m\u001b[0;34m:\u001b[0m\u001b[0;34m\u001b[0m\u001b[0m\n\u001b[0;32m-> 2632\u001b[0;31m       \u001b[0;32mraise\u001b[0m \u001b[0mValueError\u001b[0m\u001b[0;34m(\u001b[0m\u001b[0;34m\"All input arrays must have the same shape.\"\u001b[0m\u001b[0;34m)\u001b[0m\u001b[0;34m\u001b[0m\u001b[0m\n\u001b[0m\u001b[1;32m   2633\u001b[0m     \u001b[0mnew_arrays\u001b[0m\u001b[0;34m.\u001b[0m\u001b[0mappend\u001b[0m\u001b[0;34m(\u001b[0m\u001b[0mexpand_dims\u001b[0m\u001b[0;34m(\u001b[0m\u001b[0ma\u001b[0m\u001b[0;34m,\u001b[0m \u001b[0maxis\u001b[0m\u001b[0;34m)\u001b[0m\u001b[0;34m)\u001b[0m\u001b[0;34m\u001b[0m\u001b[0m\n\u001b[1;32m   2634\u001b[0m   \u001b[0;32mreturn\u001b[0m \u001b[0mconcatenate\u001b[0m\u001b[0;34m(\u001b[0m\u001b[0mnew_arrays\u001b[0m\u001b[0;34m,\u001b[0m \u001b[0maxis\u001b[0m\u001b[0;34m=\u001b[0m\u001b[0maxis\u001b[0m\u001b[0;34m)\u001b[0m\u001b[0;34m\u001b[0m\u001b[0m\n",
      "\u001b[0;31mValueError\u001b[0m: All input arrays must have the same shape."
     ]
    }
   ],
   "source": [
    "@mcx.model\n",
    "def linear_regression_mvn(x, lmbda=1.):\n",
    "    sigma <~ dist.Exponential(lmbda)\n",
    "    sigma2 <~ dist.Exponential(lmbda)\n",
    "    rho <~ dist.Uniform(0, 1)\n",
    "    cov = jnp.array([[sigma, rho*sigma*sigma2],[rho*sigma*sigma2, sigma2]]).reshape(-1, 2, 2)\n",
    "    coeffs_init = jnp.ones(x.shape[-1])\n",
    "    coeffs <~ dist.MvNormal(coeffs_init, cov)\n",
    "    y = jnp.dot(x, coeffs.T)\n",
    "    preds <~ dist.Normal(y, sigma)\n",
    "    return preds\n",
    "\n",
    "kernel = mcx.HMC(100)\n",
    "sampler = mcx.sampler(\n",
    "    rng_key,\n",
    "    linear_regression_mvn,\n",
    "    (x_data_mvn,),\n",
    "    {'preds': }\n",
    "    **observations_mvn\n",
    ")"
   ]
  },
  {
   "cell_type": "code",
   "execution_count": 15,
   "id": "massive-income",
   "metadata": {},
   "outputs": [
    {
     "ename": "AttributeError",
     "evalue": "'model' object has no attribute 'params_constraints'",
     "output_type": "error",
     "traceback": [
      "\u001b[0;31m---------------------------------------------------------------------------\u001b[0m",
      "\u001b[0;31mAttributeError\u001b[0m                            Traceback (most recent call last)",
      "\u001b[0;32m<ipython-input-15-2e78799770f9>\u001b[0m in \u001b[0;36m<module>\u001b[0;34m\u001b[0m\n\u001b[0;32m----> 1\u001b[0;31m \u001b[0mlinear_regression_mvn\u001b[0m\u001b[0;34m.\u001b[0m\u001b[0m__str__\u001b[0m\u001b[0;34m(\u001b[0m\u001b[0;34m)\u001b[0m\u001b[0;34m\u001b[0m\u001b[0m\n\u001b[0m",
      "\u001b[0;32m~/Documents/mcx/mcx/distributions/distribution.py\u001b[0m in \u001b[0;36m__str__\u001b[0;34m(self)\u001b[0m\n\u001b[1;32m    120\u001b[0m         \u001b[0;34m\"\"\"User-friendly representation of the probability distribution.\"\"\"\u001b[0m\u001b[0;34m\u001b[0m\u001b[0m\n\u001b[1;32m    121\u001b[0m         constraints_str = \"\\n  \".join(\n\u001b[0;32m--> 122\u001b[0;31m             \u001b[0;34m[\u001b[0m\u001b[0;34mf\"{key}: {value!s}\"\u001b[0m \u001b[0;32mfor\u001b[0m \u001b[0mkey\u001b[0m\u001b[0;34m,\u001b[0m \u001b[0mvalue\u001b[0m \u001b[0;32min\u001b[0m \u001b[0mself\u001b[0m\u001b[0;34m.\u001b[0m\u001b[0mparams_constraints\u001b[0m\u001b[0;34m.\u001b[0m\u001b[0mitems\u001b[0m\u001b[0;34m(\u001b[0m\u001b[0;34m)\u001b[0m\u001b[0;34m]\u001b[0m\u001b[0;34m\u001b[0m\u001b[0m\n\u001b[0m\u001b[1;32m    123\u001b[0m         )\n\u001b[1;32m    124\u001b[0m         \u001b[0msupport_str\u001b[0m \u001b[0;34m=\u001b[0m \u001b[0mstr\u001b[0m\u001b[0;34m(\u001b[0m\u001b[0mself\u001b[0m\u001b[0;34m.\u001b[0m\u001b[0msupport\u001b[0m\u001b[0;34m)\u001b[0m\u001b[0;34m\u001b[0m\u001b[0m\n",
      "\u001b[0;31mAttributeError\u001b[0m: 'model' object has no attribute 'params_constraints'"
     ]
    }
   ],
   "source": [
    "linear_regression_mvn."
   ]
  },
  {
   "cell_type": "code",
   "execution_count": 50,
   "id": "mounted-soundtrack",
   "metadata": {},
   "outputs": [
    {
     "data": {
      "text/plain": [
       "'[1.5 1.5 1.5]'"
      ]
     },
     "execution_count": 50,
     "metadata": {},
     "output_type": "execute_result"
    }
   ],
   "source": [
    "a = np.array([[1, 1, 1], [2, 2, 2]])\n",
    "np.array_str(a.mean(axis= 0), )"
   ]
  },
  {
   "cell_type": "code",
   "execution_count": 18,
   "id": "acquired-islam",
   "metadata": {},
   "outputs": [
    {
     "data": {
      "text/plain": [
       "array([[<AxesSubplot:title={'center':'coeffs'}>,\n",
       "        <AxesSubplot:title={'center':'coeffs'}>],\n",
       "       [<AxesSubplot:title={'center':'sigma'}>,\n",
       "        <AxesSubplot:title={'center':'sigma'}>]], dtype=object)"
      ]
     },
     "execution_count": 18,
     "metadata": {},
     "output_type": "execute_result"
    },
    {
     "data": {
      "image/png": "[encoded data removed]",
      "text/plain": [
       "<Figure size 864x288 with 4 Axes>"
      ]
     },
     "metadata": {
      "needs_background": "light"
     },
     "output_type": "display_data"
    }
   ],
   "source": [
    "import arviz as az\n",
    "az.plot_trace(posterior)"
   ]
  },
  {
   "cell_type": "code",
   "execution_count": 24,
   "id": "traditional-hamburg",
   "metadata": {},
   "outputs": [],
   "source": [
    "for i in posterior.values():\n",
    "    print(i)"
   ]
  },
  {
   "cell_type": "code",
   "execution_count": null,
   "id": "superb-lyric",
   "metadata": {},
   "outputs": [],
   "source": [
    "for sample in sampler:\n",
    "    "
   ]
  }
 ],
 "metadata": {
  "kernelspec": {
   "display_name": "Python 3",
   "language": "python",
   "name": "python3"
  },
  "language_info": {
   "codemirror_mode": {
    "name": "ipython",
    "version": 3
   },
   "file_extension": ".py",
   "mimetype": "text/x-python",
   "name": "python",
   "nbconvert_exporter": "python",
   "pygments_lexer": "ipython3",
   "version": "3.7.0"
  }
 },
 "nbformat": 4,
 "nbformat_minor": 5
}
